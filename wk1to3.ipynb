{
 "cells": [
  {
   "cell_type": "markdown",
   "metadata": {},
   "source": [
    "## Review of ML Concepts\n",
    "\n",
    "### Common Terms and Concepts"
   ]
  },
  {
   "cell_type": "markdown",
   "metadata": {},
   "source": [
    "* No free lunch theorem\n",
    "\n",
    "\n",
    "* Bias v.s Variance"
   ]
  },
  {
   "cell_type": "markdown",
   "metadata": {},
   "source": []
  },
  {
   "cell_type": "code",
   "execution_count": 1,
   "metadata": {},
   "outputs": [],
   "source": [
    "import pandas as pd"
   ]
  },
  {
   "cell_type": "code",
   "execution_count": null,
   "metadata": {},
   "outputs": [],
   "source": []
  },
  {
   "cell_type": "markdown",
   "metadata": {},
   "source": [
    "Last update: 9 January, 2024\n",
    "\n",
    "Author: Huanfa Chen\n",
    "\n",
    "    VanderPlas, \"Python data science handbook\", O'Reilly, 2017, ISBN 9781491912058 (Code on Github)\n",
    "        This book covers a wide range of topics relating to data analysis and machine learning using Python. The content of this book is available on GitHub in the form of Jupyter notebooks.\n",
    "    Konrad Banachewicz, Luca Massaron, Anthony Goldbloom, \"The Kaggle Book\", O'Reilly, 2022, ISBN 9781801817479\n",
    "        What is Kaggle? It is (one of) the most famous data science competition platform. This book assembles the techniques and skills that you will need for success in data science competitions/projects, with step-by-step guidance from Kaggle Grandmasters.\n",
    "        You can read it online using the UCL account: see link, or search for this book in the UCL library website.\n",
    "    Konrad Banachewicz, Luca Massaron, \"The Kaggle Workbook\", O'Reilly, 2023, ISBN 978-1804611210\n",
    "        A practical guide that complements \"The Kaggle Book\". Github repo is here.\n",
    "        Likewise, you can read it online using the UCL account: see link.\n",
    "    Deeplearning.AI on Coursera, \"Machine learning specialization\".\n",
    "        This specialisation is friendly o beginners in machine learning, and will teach the fundamentals of machine learning and how to use these techniques to build real-world AI applications. Note that it is not free after 7-day trials.\n",
    "    Goodfellow, Bengio, Courville, \"Deep learning\", MIT Press, 2016, ISBN 9780262035613\n",
    "        This book is written by big names in machine learning and is frequently updated. It is quite extensive and covers many topics in deep learning. It comes with lecture notes and exercises.\n"
   ]
  },
  {
   "cell_type": "markdown",
   "metadata": {},
   "source": []
  }
 ],
 "metadata": {
  "kernelspec": {
   "display_name": "Python 3",
   "language": "python",
   "name": "python3"
  },
  "language_info": {
   "codemirror_mode": {
    "name": "ipython",
    "version": 3
   },
   "file_extension": ".py",
   "mimetype": "text/x-python",
   "name": "python",
   "nbconvert_exporter": "python",
   "pygments_lexer": "ipython3",
   "version": "3.10.12"
  }
 },
 "nbformat": 4,
 "nbformat_minor": 2
}
