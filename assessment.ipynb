{
 "cells": [
  {
   "cell_type": "code",
   "execution_count": null,
   "metadata": {},
   "outputs": [],
   "source": []
  },
  {
   "cell_type": "markdown",
   "metadata": {},
   "source": [
    "Datasets by categories\n",
    "\n",
    "Below is a list of interesting datasets, which can be used to construct more complicated datasets and to answer relevant research questions. You can combine these datasets with a wide range of methods, including making predictions, obtaining data groups, or causal analysis.\n",
    "\n",
    "1. Covid-19 related data\n",
    "   1.1 [Historical Vaccination] (https://www.england.nhs.uk/statistics/statistical-work-areas/covid-19-vaccinations/). Note that the Weekly COVID-19 Vaccinations data are split by MSOA, so it is possible to link the MSOA-level vaccinations with socio-demographic data.\n",
    "   1.2 [Covid-19 data] (https://coronavirus.data.gov.uk/details/download), including number of case, vaccination, etc. Note that you can select the area unit.\n",
    "\n",
    "2. Cycling datasets in London\n",
    "   2.1 [Cycle Flows on the TFL Road Network] (https://data.london.gov.uk/dataset/cycle-flows-tfl-road-network): containing an index that is used to represent increases in cycle flows on the TfL Road Network (TLRN) over time. It does not represent the total number of cyclists in London. Automatic cycling counters are pieces of monitoring equipment that emit a magnetic field that detects the presence of a moving cycle.\n",
    "   2.2 [Location of London Cycle Hire Scheme] (https://www.data.gov.uk/dataset/6770d316-6e37-49e9-a6d7-6c2ecd56ef07/london-cycle-hire-scheme)\n",
    "   2.3 [TfL Cycling data] (https://cycling.data.tfl.gov.uk/)\n",
    "      1. This website contains a wide range of cycling data, including cycle parking, trips of Santander bike hire, etc. \n",
    "\n",
    "3. [Road safety data in UK] (https://www.data.gov.uk/dataset/cb7ae6f0-4be6-4935-9277-47e5ce24a11f/road-safety-data)\n",
    "   1. This website contains information about road accidents in the UK, including the location, severity, and contributing factors such as weather, road conditions, and vehicle types.\n",
    "\n",
    "4. [UK census data] (https://www.ons.gov.uk/census)\n",
    "   1. This website contains UK census data - a wide range of data to play with.\n",
    "\n",
    "5. Oyster card data\n",
    "   1. Unfortunately, the individual or aggregated oyster usage data are not publicly available. If you are really interested in Oyster card data, you can use [Freedom of Information requests] (https://tfl.gov.uk/corporate/transparency/freedom-of-information) to ask for data. Note that it takes time!\n",
    "\n",
    "6. [New York City Taxi Trip Data] (https://www1.nyc.gov/site/tlc/about/tlc-trip-record-data.page)\n",
    "   1. This dataset contains information about taxi trips in New York City, including the pick-up and drop-off location, fare amount, and tip amount.\n"
   ]
  },
  {
   "cell_type": "markdown",
   "metadata": {},
   "source": []
  }
 ],
 "metadata": {
  "language_info": {
   "name": "python"
  }
 },
 "nbformat": 4,
 "nbformat_minor": 2
}
