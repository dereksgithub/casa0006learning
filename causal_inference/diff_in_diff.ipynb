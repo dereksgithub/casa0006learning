{
 "cells": [
  {
   "cell_type": "markdown",
   "metadata": {},
   "source": []
  },
  {
   "cell_type": "code",
   "execution_count": 1,
   "metadata": {},
   "outputs": [
    {
     "name": "stdout",
     "output_type": "stream",
     "text": [
      "                            OLS Regression Results                            \n",
      "==============================================================================\n",
      "Dep. Variable:                outcome   R-squared:                       1.000\n",
      "Model:                            OLS   Adj. R-squared:                    nan\n",
      "Method:                 Least Squares   F-statistic:                       nan\n",
      "Date:                Fri, 26 Jan 2024   Prob (F-statistic):                nan\n",
      "Time:                        14:37:59   Log-Likelihood:                 126.29\n",
      "No. Observations:                   4   AIC:                            -244.6\n",
      "Df Residuals:                       0   BIC:                            -247.0\n",
      "Df Model:                           3                                         \n",
      "Covariance Type:            nonrobust                                         \n",
      "==================================================================================\n",
      "                     coef    std err          t      P>|t|      [0.025      0.975]\n",
      "----------------------------------------------------------------------------------\n",
      "const             10.0000        inf          0        nan         nan         nan\n",
      "treatment          5.0000        inf          0        nan         nan         nan\n",
      "post               2.0000        inf          0        nan         nan         nan\n",
      "treatment_post     3.0000        inf          0        nan         nan         nan\n",
      "==============================================================================\n",
      "Omnibus:                          nan   Durbin-Watson:                   0.143\n",
      "Prob(Omnibus):                    nan   Jarque-Bera (JB):                0.963\n",
      "Skew:                          -1.155   Prob(JB):                        0.618\n",
      "Kurtosis:                       2.333   Cond. No.                         6.85\n",
      "==============================================================================\n",
      "\n",
      "Notes:\n",
      "[1] Standard Errors assume that the covariance matrix of the errors is correctly specified.\n"
     ]
    },
    {
     "name": "stderr",
     "output_type": "stream",
     "text": [
      "/home/mengyuwsl/.local/lib/python3.10/site-packages/statsmodels/stats/stattools.py:74: ValueWarning: omni_normtest is not valid with less than 8 observations; 4 samples were given.\n",
      "  warn(\"omni_normtest is not valid with less than 8 observations; %i \"\n",
      "/home/mengyuwsl/.local/lib/python3.10/site-packages/statsmodels/regression/linear_model.py:1794: RuntimeWarning: divide by zero encountered in divide\n",
      "  return 1 - (np.divide(self.nobs - self.k_constant, self.df_resid)\n",
      "/home/mengyuwsl/.local/lib/python3.10/site-packages/statsmodels/regression/linear_model.py:1794: RuntimeWarning: invalid value encountered in scalar multiply\n",
      "  return 1 - (np.divide(self.nobs - self.k_constant, self.df_resid)\n",
      "/home/mengyuwsl/.local/lib/python3.10/site-packages/statsmodels/regression/linear_model.py:1716: RuntimeWarning: divide by zero encountered in scalar divide\n",
      "  return np.dot(wresid, wresid) / self.df_resid\n"
     ]
    }
   ],
   "source": [
    "import pandas as pd\n",
    "import numpy as np\n",
    "import statsmodels.api as sm\n",
    "\n",
    "# Create a sample dataset\n",
    "data = pd.DataFrame({\n",
    "    'group': ['control', 'control', 'treatment', 'treatment'],\n",
    "    'time': [0, 1, 0, 1],\n",
    "    'outcome': [10, 12, 15, 20]\n",
    "})\n",
    "\n",
    "# Create dummy variables for group and time\n",
    "data['treatment'] = np.where(data['group'] == 'treatment', 1, 0)\n",
    "data['post'] = np.where(data['time'] == 1, 1, 0)\n",
    "\n",
    "# Create interaction term\n",
    "data['treatment_post'] = data['treatment'] * data['post']\n",
    "\n",
    "# Fit the regression model\n",
    "model = sm.OLS(data['outcome'], sm.add_constant(data[['treatment', 'post', 'treatment_post']]))\n",
    "results = model.fit()\n",
    "\n",
    "# Print the regression results\n",
    "print(results.summary())\n"
   ]
  },
  {
   "cell_type": "code",
   "execution_count": null,
   "metadata": {},
   "outputs": [],
   "source": []
  }
 ],
 "metadata": {
  "kernelspec": {
   "display_name": "Python 3",
   "language": "python",
   "name": "python3"
  },
  "language_info": {
   "codemirror_mode": {
    "name": "ipython",
    "version": 3
   },
   "file_extension": ".py",
   "mimetype": "text/x-python",
   "name": "python",
   "nbconvert_exporter": "python",
   "pygments_lexer": "ipython3",
   "version": "3.10.12"
  }
 },
 "nbformat": 4,
 "nbformat_minor": 2
}
