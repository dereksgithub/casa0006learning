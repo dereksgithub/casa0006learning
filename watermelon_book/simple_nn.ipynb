{
 "cells": [
  {
   "cell_type": "markdown",
   "metadata": {},
   "source": [
    "Neural Networks:\n",
    "\n"
   ]
  },
  {
   "cell_type": "code",
   "execution_count": 4,
   "metadata": {},
   "outputs": [],
   "source": [
    "import matplotlib.pyplot as plt"
   ]
  },
  {
   "cell_type": "code",
   "execution_count": 1,
   "metadata": {},
   "outputs": [],
   "source": [
    "# a simple neural network with one hidden layer: 2 inputs, 3 hidden neurons, 1 output neuron\n",
    "\n",
    "import pandas as pd\n",
    "import numpy as np\n",
    "\n",
    "# Define the activation function\n",
    "def sigmoid(x):\n",
    "    return 1 / (1 + np.exp(-x))\n",
    "\n",
    "# Define the derivative of the activation function\n",
    "def sigmoid_derivative(x):\n",
    "    return sigmoid(x) * (1 - sigmoid(x))\n",
    "\n",
    "# Define the neural network class\n",
    "class NeuralNetwork:\n",
    "    def __init__(self, input_size, hidden_size, output_size):\n",
    "        self.input_size = input_size\n",
    "        self.hidden_size = hidden_size\n",
    "        self.output_size = output_size\n",
    "        \n",
    "        # Initialize the weights\n",
    "        self.weights1 = np.random.randn(self.input_size, self.hidden_size)\n",
    "        self.weights2 = np.random.randn(self.hidden_size, self.output_size)\n",
    "        \n",
    "        # Initialize the biases\n",
    "        self.biases1 = np.zeros((1, self.hidden_size))\n",
    "        self.biases2 = np.zeros((1, self.output_size))\n",
    "        \n",
    "    def forward(self, X):\n",
    "        # Calculate the hidden layer output\n",
    "        self.hidden_output = sigmoid(np.dot(X, self.weights1) + self.biases1)\n",
    "        \n",
    "        # Calculate the output layer output\n",
    "        self.output = sigmoid(np.dot(self.hidden_output, self.weights2) + self.biases2)\n",
    "        \n",
    "        return self.output\n",
    "    \n",
    "    def backward(self, X, y, learning_rate):\n",
    "        # Calculate the gradients\n",
    "        output_error = y - self.output\n",
    "        output_delta = output_error * sigmoid_derivative(self.output)\n",
    "        \n",
    "        hidden_error = np.dot(output_delta, self.weights2.T)\n",
    "        hidden_delta = hidden_error * sigmoid_derivative(self.hidden_output)\n",
    "        \n",
    "        # Update the weights and biases\n",
    "        self.weights2 += np.dot(self.hidden_output.T, output_delta) * learning_rate\n",
    "        self.weights1 += np.dot(X.T, hidden_delta) * learning_rate\n",
    "        \n",
    "        self.biases2 += np.sum(output_delta, axis=0) * learning_rate\n",
    "        self.biases1 += np.sum(hidden_delta, axis=0) * learning_rate\n",
    "        \n",
    "    def train(self, X, y, epochs, learning_rate):\n",
    "        for epoch in range(epochs):\n",
    "            # Forward pass\n",
    "            output = self.forward(X)\n",
    "            \n",
    "            # Backward pass\n",
    "            self.backward(X, y, learning_rate)\n",
    "            \n",
    "    def predict(self, X):\n",
    "        return self.forward(X)\n",
    "\n",
    "\n"
   ]
  },
  {
   "cell_type": "markdown",
   "metadata": {},
   "source": [
    "Try it on the UCI data:\n",
    "\n",
    "digits dataset, recognizing handwritten digits.\n",
    "Using the code given in the UCI repo to import the dataset."
   ]
  },
  {
   "cell_type": "code",
   "execution_count": 45,
   "metadata": {},
   "outputs": [
    {
     "name": "stdout",
     "output_type": "stream",
     "text": [
      "           name     role         type demographic description units  \\\n",
      "0    Attribute1  Feature      Integer        None        None  None   \n",
      "1    Attribute2  Feature      Integer        None        None  None   \n",
      "2    Attribute3  Feature      Integer        None        None  None   \n",
      "3    Attribute4  Feature      Integer        None        None  None   \n",
      "4    Attribute5  Feature      Integer        None        None  None   \n",
      "..          ...      ...          ...         ...         ...   ...   \n",
      "60  Attribute61  Feature      Integer        None        None  None   \n",
      "61  Attribute62  Feature      Integer        None        None  None   \n",
      "62  Attribute63  Feature      Integer        None        None  None   \n",
      "63  Attribute64  Feature      Integer        None        None  None   \n",
      "64        class   Target  Categorical        None        None  None   \n",
      "\n",
      "   missing_values  \n",
      "0              no  \n",
      "1              no  \n",
      "2              no  \n",
      "3              no  \n",
      "4              no  \n",
      "..            ...  \n",
      "60             no  \n",
      "61             no  \n",
      "62             no  \n",
      "63             no  \n",
      "64             no  \n",
      "\n",
      "[65 rows x 7 columns]\n"
     ]
    }
   ],
   "source": [
    "from ucimlrepo import fetch_ucirepo \n",
    "  \n",
    "# fetch dataset \n",
    "optical_recognition_of_handwritten_digits = fetch_ucirepo(id=80) \n",
    "  \n",
    "# data (as pandas dataframes) \n",
    "X = optical_recognition_of_handwritten_digits.data.features \n",
    "y = optical_recognition_of_handwritten_digits.data.targets \n",
    "  \n",
    "# metadata \n",
    "#print(optical_recognition_of_handwritten_digits.metadata) \n",
    "  \n",
    "# variable information \n",
    "print(optical_recognition_of_handwritten_digits.variables) "
   ]
  },
  {
   "cell_type": "code",
   "execution_count": 31,
   "metadata": {},
   "outputs": [
    {
     "data": {
      "text/plain": [
       "{'ids': None,\n",
       " 'features':       Attribute1  Attribute2  Attribute3  Attribute4  Attribute5  Attribute6  \\\n",
       " 0              0           1           6          15          12           1   \n",
       " 1              0           0          10          16           6           0   \n",
       " 2              0           0           8          15          16          13   \n",
       " 3              0           0           0           3          11          16   \n",
       " 4              0           0           5          14           4           0   \n",
       " ...          ...         ...         ...         ...         ...         ...   \n",
       " 5615           0           0           4          10          13           6   \n",
       " 5616           0           0           6          16          13          11   \n",
       " 5617           0           0           1          11          15           1   \n",
       " 5618           0           0           2          10           7           0   \n",
       " 5619           0           0          10          14           8           1   \n",
       " \n",
       "       Attribute7  Attribute8  Attribute9  Attribute10  ...  Attribute55  \\\n",
       " 0              0           0           0            7  ...            0   \n",
       " 1              0           0           0            7  ...            3   \n",
       " 2              0           0           0            1  ...            0   \n",
       " 3              0           0           0            0  ...            0   \n",
       " 4              0           0           0            0  ...           12   \n",
       " ...          ...         ...         ...          ...  ...          ...   \n",
       " 5615           0           0           0            1  ...            4   \n",
       " 5616           1           0           0            0  ...            1   \n",
       " 5617           0           0           0            0  ...            0   \n",
       " 5618           0           0           0            0  ...            2   \n",
       " 5619           0           0           0            2  ...            8   \n",
       " \n",
       "       Attribute56  Attribute57  Attribute58  Attribute59  Attribute60  \\\n",
       " 0               0            0            0            6           14   \n",
       " 1               0            0            0           10           16   \n",
       " 2               0            0            0            9           14   \n",
       " 3               0            0            0            0            1   \n",
       " 4               0            0            0            4           12   \n",
       " ...           ...          ...          ...          ...          ...   \n",
       " 5615            0            0            0            2           14   \n",
       " 5616            0            0            0            6           16   \n",
       " 5617            0            0            0            2            9   \n",
       " 5618            0            0            0            5           12   \n",
       " 5619            0            0            1            8           12   \n",
       " \n",
       "       Attribute61  Attribute62  Attribute63  Attribute64  \n",
       " 0               7            1            0            0  \n",
       " 1              15            3            0            0  \n",
       " 2               0            0            0            0  \n",
       " 3              15            2            0            0  \n",
       " 4              14            7            0            0  \n",
       " ...           ...          ...          ...          ...  \n",
       " 5615           15            9            0            0  \n",
       " 5616           14            6            0            0  \n",
       " 5617           13            6            0            0  \n",
       " 5618           16           12            0            0  \n",
       " 5619           14           12            1            0  \n",
       " \n",
       " [5620 rows x 64 columns],\n",
       " 'targets':       class\n",
       " 0         0\n",
       " 1         0\n",
       " 2         7\n",
       " 3         4\n",
       " 4         6\n",
       " ...     ...\n",
       " 5615      9\n",
       " 5616      0\n",
       " 5617      8\n",
       " 5618      9\n",
       " 5619      8\n",
       " \n",
       " [5620 rows x 1 columns],\n",
       " 'original':       Attribute1  Attribute2  Attribute3  Attribute4  Attribute5  Attribute6  \\\n",
       " 0              0           1           6          15          12           1   \n",
       " 1              0           0          10          16           6           0   \n",
       " 2              0           0           8          15          16          13   \n",
       " 3              0           0           0           3          11          16   \n",
       " 4              0           0           5          14           4           0   \n",
       " ...          ...         ...         ...         ...         ...         ...   \n",
       " 5615           0           0           4          10          13           6   \n",
       " 5616           0           0           6          16          13          11   \n",
       " 5617           0           0           1          11          15           1   \n",
       " 5618           0           0           2          10           7           0   \n",
       " 5619           0           0          10          14           8           1   \n",
       " \n",
       "       Attribute7  Attribute8  Attribute9  Attribute10  ...  Attribute56  \\\n",
       " 0              0           0           0            7  ...            0   \n",
       " 1              0           0           0            7  ...            0   \n",
       " 2              0           0           0            1  ...            0   \n",
       " 3              0           0           0            0  ...            0   \n",
       " 4              0           0           0            0  ...            0   \n",
       " ...          ...         ...         ...          ...  ...          ...   \n",
       " 5615           0           0           0            1  ...            0   \n",
       " 5616           1           0           0            0  ...            0   \n",
       " 5617           0           0           0            0  ...            0   \n",
       " 5618           0           0           0            0  ...            0   \n",
       " 5619           0           0           0            2  ...            0   \n",
       " \n",
       "       Attribute57  Attribute58  Attribute59  Attribute60  Attribute61  \\\n",
       " 0               0            0            6           14            7   \n",
       " 1               0            0           10           16           15   \n",
       " 2               0            0            9           14            0   \n",
       " 3               0            0            0            1           15   \n",
       " 4               0            0            4           12           14   \n",
       " ...           ...          ...          ...          ...          ...   \n",
       " 5615            0            0            2           14           15   \n",
       " 5616            0            0            6           16           14   \n",
       " 5617            0            0            2            9           13   \n",
       " 5618            0            0            5           12           16   \n",
       " 5619            0            1            8           12           14   \n",
       " \n",
       "       Attribute62  Attribute63  Attribute64  class  \n",
       " 0               1            0            0      0  \n",
       " 1               3            0            0      0  \n",
       " 2               0            0            0      7  \n",
       " 3               2            0            0      4  \n",
       " 4               7            0            0      6  \n",
       " ...           ...          ...          ...    ...  \n",
       " 5615            9            0            0      9  \n",
       " 5616            6            0            0      0  \n",
       " 5617            6            0            0      8  \n",
       " 5618           12            0            0      9  \n",
       " 5619           12            1            0      8  \n",
       " \n",
       " [5620 rows x 65 columns],\n",
       " 'headers': Index(['Attribute1', 'Attribute2', 'Attribute3', 'Attribute4', 'Attribute5',\n",
       "        'Attribute6', 'Attribute7', 'Attribute8', 'Attribute9', 'Attribute10',\n",
       "        'Attribute11', 'Attribute12', 'Attribute13', 'Attribute14',\n",
       "        'Attribute15', 'Attribute16', 'Attribute17', 'Attribute18',\n",
       "        'Attribute19', 'Attribute20', 'Attribute21', 'Attribute22',\n",
       "        'Attribute23', 'Attribute24', 'Attribute25', 'Attribute26',\n",
       "        'Attribute27', 'Attribute28', 'Attribute29', 'Attribute30',\n",
       "        'Attribute31', 'Attribute32', 'Attribute33', 'Attribute34',\n",
       "        'Attribute35', 'Attribute36', 'Attribute37', 'Attribute38',\n",
       "        'Attribute39', 'Attribute40', 'Attribute41', 'Attribute42',\n",
       "        'Attribute43', 'Attribute44', 'Attribute45', 'Attribute46',\n",
       "        'Attribute47', 'Attribute48', 'Attribute49', 'Attribute50',\n",
       "        'Attribute51', 'Attribute52', 'Attribute53', 'Attribute54',\n",
       "        'Attribute55', 'Attribute56', 'Attribute57', 'Attribute58',\n",
       "        'Attribute59', 'Attribute60', 'Attribute61', 'Attribute62',\n",
       "        'Attribute63', 'Attribute64', 'class'],\n",
       "       dtype='object')}"
      ]
     },
     "execution_count": 31,
     "metadata": {},
     "output_type": "execute_result"
    }
   ],
   "source": [
    "optical_recognition_of_handwritten_digits.data"
   ]
  },
  {
   "cell_type": "markdown",
   "metadata": {},
   "source": [
    "Now, show the first picture:"
   ]
  },
  {
   "cell_type": "code",
   "execution_count": 26,
   "metadata": {},
   "outputs": [
    {
     "data": {
      "text/plain": [
       "Attribute1      0\n",
       "Attribute2      1\n",
       "Attribute3      6\n",
       "Attribute4     15\n",
       "Attribute5     12\n",
       "               ..\n",
       "Attribute60    14\n",
       "Attribute61     7\n",
       "Attribute62     1\n",
       "Attribute63     0\n",
       "Attribute64     0\n",
       "Name: 0, Length: 64, dtype: int64"
      ]
     },
     "execution_count": 26,
     "metadata": {},
     "output_type": "execute_result"
    }
   ],
   "source": [
    "optical_recognition_of_handwritten_digits.data['features'].loc[0,:]"
   ]
  },
  {
   "cell_type": "code",
   "execution_count": 27,
   "metadata": {},
   "outputs": [],
   "source": [
    "pic_1st_array = optical_recognition_of_handwritten_digits.data['features'].loc[0,:].to_numpy()\n",
    "\n",
    "# Reshape the array into an 8x8 matrix\n",
    "matrix_8x8_first_pic = pic_1st_array.reshape(8, 8)"
   ]
  },
  {
   "cell_type": "code",
   "execution_count": 28,
   "metadata": {},
   "outputs": [
    {
     "data": {
      "text/plain": [
       "<Figure size 640x480 with 0 Axes>"
      ]
     },
     "metadata": {},
     "output_type": "display_data"
    },
    {
     "data": {
      "image/png": "[encoded data removed]",
      "text/plain": [
       "<Figure size 480x480 with 1 Axes>"
      ]
     },
     "metadata": {},
     "output_type": "display_data"
    }
   ],
   "source": [
    "plt.gray()\n",
    "plt.matshow(matrix_8x8_first_pic, cmap=plt.cm.gray_r, interpolation='nearest')\n",
    "plt.show()"
   ]
  },
  {
   "cell_type": "markdown",
   "metadata": {},
   "source": [
    "It seems the first phote is a 0.\n",
    "\n",
    "check out the Target:"
   ]
  },
  {
   "cell_type": "code",
   "execution_count": 42,
   "metadata": {},
   "outputs": [
    {
     "data": {
      "text/plain": [
       "class    0\n",
       "Name: 0, dtype: int64"
      ]
     },
     "execution_count": 42,
     "metadata": {},
     "output_type": "execute_result"
    }
   ],
   "source": [
    "optical_recognition_of_handwritten_digits.data['targets'].loc[0,:]"
   ]
  },
  {
   "cell_type": "markdown",
   "metadata": {},
   "source": [
    "It is indeed 0! \n",
    "\n",
    "Now test the simple three layer n-n on it."
   ]
  },
  {
   "cell_type": "code",
   "execution_count": 48,
   "metadata": {},
   "outputs": [],
   "source": [
    "# Create a neural network instance\n",
    "nn = NeuralNetwork(input_size=64, hidden_size=3, output_size=1)\n"
   ]
  },
  {
   "cell_type": "code",
   "execution_count": 54,
   "metadata": {},
   "outputs": [
    {
     "data": {
      "text/plain": [
       "pandas.core.frame.DataFrame"
      ]
     },
     "execution_count": 54,
     "metadata": {},
     "output_type": "execute_result"
    }
   ],
   "source": [
    "type(X)"
   ]
  },
  {
   "cell_type": "code",
   "execution_count": 55,
   "metadata": {},
   "outputs": [
    {
     "data": {
      "text/plain": [
       "pandas.core.frame.DataFrame"
      ]
     },
     "execution_count": 55,
     "metadata": {},
     "output_type": "execute_result"
    }
   ],
   "source": [
    "type(y)"
   ]
  },
  {
   "cell_type": "markdown",
   "metadata": {},
   "source": [
    "Now convert to numpy:"
   ]
  },
  {
   "cell_type": "code",
   "execution_count": 56,
   "metadata": {},
   "outputs": [],
   "source": [
    "X_arr = X.to_numpy()\n",
    "y_arr = y.to_numpy()"
   ]
  },
  {
   "cell_type": "markdown",
   "metadata": {},
   "source": [
    "    Input Layer: The size of the input layer should match the number of features in your dataset. So, for your case, you would have 64 neurons in the input layer.\n",
    "\n",
    "    Hidden Layer: The number of neurons in the hidden layer is a key parameter to tune. A common practice is to start with a number between the size of the input layer and the size of the output layer. Since you have 64 input features, you might start with a hidden layer size that is a fraction or multiple of 64. A typical starting point could be in the range of 32 to 128 neurons. The exact number can be determined through experimentation: start with a lower number to avoid overfitting and increase it if the network's performance is not satisfactory.\n",
    "\n",
    "    Output Layer: The size of the output layer depends on the type of task. For a regression task, it's usually 1 neuron (for a single continuous output). For a classification task, it's often the number of classes (for binary classification, it's 1 neuron; for multi-class classification, it's equal to the number of classes)."
   ]
  },
  {
   "cell_type": "code",
   "execution_count": 66,
   "metadata": {},
   "outputs": [
    {
     "name": "stderr",
     "output_type": "stream",
     "text": [
      "/tmp/ipykernel_20191/4223900226.py:8: RuntimeWarning: overflow encountered in exp\n",
      "  return 1 / (1 + np.exp(-x))\n"
     ]
    },
    {
     "name": "stdout",
     "output_type": "stream",
     "text": [
      "[[1.]\n",
      " [1.]\n",
      " [1.]\n",
      " ...\n",
      " [1.]\n",
      " [1.]\n",
      " [1.]]\n"
     ]
    }
   ],
   "source": [
    "# Create a neural network instance\n",
    "#nn = NeuralNetwork(input_size=64, hidden_size=3, output_size=1)\n",
    "# Create a neural network instance\n",
    "\n",
    "\n",
    "nn = NeuralNetwork(input_size=64, hidden_size=128, output_size=1)\n",
    "# Train the neural network\n",
    "nn.train(X_arr, y_arr, epochs=1000, learning_rate=0.1)\n",
    "\n",
    "# Make predictions\n",
    "predictions = nn.predict(X)\n",
    "print(predictions)"
   ]
  },
  {
   "cell_type": "code",
   "execution_count": 67,
   "metadata": {},
   "outputs": [
    {
     "data": {
      "text/plain": [
       "array([1.])"
      ]
     },
     "execution_count": 67,
     "metadata": {},
     "output_type": "execute_result"
    }
   ],
   "source": [
    "predictions[0]"
   ]
  },
  {
   "cell_type": "markdown",
   "metadata": {},
   "source": [
    "3 layer neuron-network accuracy is:"
   ]
  },
  {
   "cell_type": "code",
   "execution_count": 68,
   "metadata": {},
   "outputs": [
    {
     "name": "stdout",
     "output_type": "stream",
     "text": [
      "0.10160142348754449\n"
     ]
    }
   ],
   "source": [
    "# print the accuracy\n",
    "print(np.mean(predictions == y))"
   ]
  },
  {
   "cell_type": "markdown",
   "metadata": {},
   "source": [
    "Basically, it predicts everything as 1.\n"
   ]
  },
  {
   "cell_type": "code",
   "execution_count": 69,
   "metadata": {},
   "outputs": [
    {
     "data": {
      "image/png": "[encoded data removed]",
      "text/plain": [
       "<Figure size 640x480 with 1 Axes>"
      ]
     },
     "metadata": {},
     "output_type": "display_data"
    }
   ],
   "source": [
    "import matplotlib.pyplot as plt\n",
    "\n",
    "# Create a histogram of predictions\n",
    "plt.hist(predictions, bins=10)\n",
    "plt.xlabel('Predictions')\n",
    "plt.ylabel('Frequency')\n",
    "plt.title('Histogram of Predictions')\n",
    "plt.show()\n"
   ]
  },
  {
   "cell_type": "code",
   "execution_count": 71,
   "metadata": {},
   "outputs": [],
   "source": [
    "from tensorflow.keras.models import Sequential\n",
    "from tensorflow.keras.layers import Conv2D, MaxPooling2D, Flatten, Dense\n",
    "\n",
    "# Create a CNN model\n",
    "model = Sequential()\n",
    "model.add(Conv2D(32, (3, 3), activation='relu', input_shape=(64, 64, 3)))\n",
    "model.add(MaxPooling2D((2, 2)))\n",
    "model.add(Flatten())\n",
    "model.add(Dense(64, activation='relu'))\n",
    "model.add(Dense(1, activation='sigmoid'))  # or softmax for multi-class\n",
    "\n",
    "# Compile the model\n",
    "model.compile(optimizer='adam', loss='binary_crossentropy', metrics=['accuracy'])\n"
   ]
  },
  {
   "cell_type": "code",
   "execution_count": 73,
   "metadata": {},
   "outputs": [],
   "source": [
    "from sklearn.model_selection import train_test_split\n",
    "\n",
    "X_train, X_test, y_train, y_test = train_test_split(X, y, test_size=0.2, random_state=42)\n",
    "\n"
   ]
  },
  {
   "cell_type": "code",
   "execution_count": 75,
   "metadata": {},
   "outputs": [],
   "source": [
    "# Create a Sequential model\n",
    "model = Sequential()\n",
    "\n",
    "# Add layers to the model\n",
    "model.add(Dense(128, activation='relu', input_shape=(64,)))  # First hidden layer with 128 neurons\n",
    "model.add(Dense(64, activation='relu'))  # Second hidden layer with 64 neurons\n",
    "model.add(Dense(1, activation='sigmoid'))  # Output layer for binary classification\n",
    "\n",
    "# Compile the model\n",
    "model.compile(optimizer='adam', loss='binary_crossentropy', metrics=['accuracy'])"
   ]
  },
  {
   "cell_type": "code",
   "execution_count": 76,
   "metadata": {},
   "outputs": [
    {
     "name": "stdout",
     "output_type": "stream",
     "text": [
      "Epoch 1/10\n"
     ]
    },
    {
     "name": "stdout",
     "output_type": "stream",
     "text": [
      "141/141 [==============================] - 2s 5ms/step - loss: -11130.6748 - accuracy: 0.1041\n",
      "Epoch 2/10\n",
      "141/141 [==============================] - 1s 4ms/step - loss: -224380.4062 - accuracy: 0.1043\n",
      "Epoch 3/10\n",
      "141/141 [==============================] - 1s 4ms/step - loss: -1139547.7500 - accuracy: 0.1043\n",
      "Epoch 4/10\n",
      "141/141 [==============================] - 1s 4ms/step - loss: -3276569.2500 - accuracy: 0.1043\n",
      "Epoch 5/10\n",
      "141/141 [==============================] - 1s 4ms/step - loss: -7068105.5000 - accuracy: 0.1043\n",
      "Epoch 6/10\n",
      "141/141 [==============================] - 1s 4ms/step - loss: -12905545.0000 - accuracy: 0.1043\n",
      "Epoch 7/10\n",
      "141/141 [==============================] - 1s 4ms/step - loss: -21117054.0000 - accuracy: 0.1043\n",
      "Epoch 8/10\n",
      "141/141 [==============================] - 1s 4ms/step - loss: -31956606.0000 - accuracy: 0.1043\n",
      "Epoch 9/10\n",
      "141/141 [==============================] - 0s 4ms/step - loss: -45637248.0000 - accuracy: 0.1043\n",
      "Epoch 10/10\n",
      "141/141 [==============================] - 1s 4ms/step - loss: -62363224.0000 - accuracy: 0.1043\n"
     ]
    },
    {
     "data": {
      "text/plain": [
       "<keras.src.callbacks.History at 0x7f76b442b130>"
      ]
     },
     "execution_count": 76,
     "metadata": {},
     "output_type": "execute_result"
    }
   ],
   "source": [
    "model.fit(X_train, y_train, epochs=10, batch_size=32)  # You can adjust epochs and batch_size\n"
   ]
  },
  {
   "cell_type": "code",
   "execution_count": 77,
   "metadata": {},
   "outputs": [
    {
     "name": "stdout",
     "output_type": "stream",
     "text": [
      "36/36 [==============================] - 0s 3ms/step - loss: -74871768.0000 - accuracy: 0.0907\n",
      "Test Accuracy: 0.09074733406305313\n"
     ]
    }
   ],
   "source": [
    "loss, accuracy = model.evaluate(X_test, y_test)\n",
    "print(f\"Test Accuracy: {accuracy}\")"
   ]
  },
  {
   "cell_type": "markdown",
   "metadata": {},
   "source": [
    "Oops!, seems to be very inaccurate!"
   ]
  },
  {
   "cell_type": "code",
   "execution_count": null,
   "metadata": {},
   "outputs": [],
   "source": []
  }
 ],
 "metadata": {
  "kernelspec": {
   "display_name": "Python 3",
   "language": "python",
   "name": "python3"
  },
  "language_info": {
   "codemirror_mode": {
    "name": "ipython",
    "version": 3
   },
   "file_extension": ".py",
   "mimetype": "text/x-python",
   "name": "python",
   "nbconvert_exporter": "python",
   "pygments_lexer": "ipython3",
   "version": "3.10.12"
  }
 },
 "nbformat": 4,
 "nbformat_minor": 2
}
