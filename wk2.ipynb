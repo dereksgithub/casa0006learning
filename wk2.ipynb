{
 "cells": [
  {
   "cell_type": "markdown",
   "metadata": {},
   "source": [
    "__Objective ot this practical:__\n",
    "1. Build a decision tree model to predict the daily bicycle rental based on metrics of R2 and RMSE;\n",
    "2. Tune the hyperparameter of maximal tree height of this model, using two ways of validation."
   ]
  },
  {
   "cell_type": "code",
   "execution_count": 3,
   "metadata": {},
   "outputs": [],
   "source": [
    "import numpy as np\n",
    "import matplotlib.pyplot as plt\n",
    "import pandas as pd\n",
    "import sklearn\n",
    "from sklearn.linear_model import LinearRegression\n",
    "from sklearn.model_selection import train_test_split, GridSearchCV, validation_curve\n",
    "\n",
    "import statsmodels.api as sm\n",
    "\n",
    "pd.set_option('display.max_rows', 300) # specifies number of rows to show\n",
    "pd.options.display.float_format = '{:40,.4f}'.format # specifies default number format to 4 decimal places\n",
    "plt.style.use('ggplot') # specifies that graphs should use ggplot styling\n",
    "%matplotlib inline"
   ]
  },
  {
   "cell_type": "markdown",
   "metadata": {},
   "source": [
    "\n",
    "Data Loading and Exploration\n",
    "\n",
    "The dataset you will use relates to daily counts of rented bicycles from the bicycle rental company Capital-Bikeshare in Washington D.C., along with weather and seasonal information. The goal here is to predict how many bikes will be rented depending on the weather and the day. The original data can be downloaded from the UCI Machine Learning Repository.\n",
    "\n",
    "The dataset used in this workshop has been slightly processed by Christoph Molnar using the processing R-script from this Github repository. Here, the dataset is provided as a csv file on Moodle.\n",
    "\n",
    "Here is a list of the variables in the dataset:\n",
    "\n",
    "    Count of bicycles including both casual and registered users. The count is used as the response in the regression task.\n",
    "    Indicator of the season, either spring, summer, fall or winter.\n",
    "    Indicator whether the day was a holiday or not.\n",
    "    The year: either 2011 or 2012.\n",
    "    Number of days since the 01.01.2011 (the first day in the dataset). This predictor was introduced to take account of the trend over time.\n",
    "    Indicator whether the day was a working day or weekend.\n",
    "    The weather situation on that day. One of:\n",
    "        'GOOD': including clear, few clouds, partly cloudy, cloudy\n",
    "        'MISTY': including mist + clouds, mist + broken clouds, mist + few clouds, mist\n",
    "        'RAIN/SNOW/STORM': including light snow, light rain + thunderstorm + scattered clouds, light rain + scattered clouds, heavy rain + ice pallets + thunderstorm + mist, snow + mist\n",
    "    Temperature in degrees Celsius.\n",
    "    Relative humidity in percent (0 to 100).\n",
    "    Wind speed in km/h.\n",
    "\n",
    "We will use Pandas package to load and explore this dataset:\n",
    "\n",
    "    Import the Boston housing dataset as a Pandas dataframe (call it bike_rental)\n",
    "    Inspect the data\n",
    "    Calculate summary statistics on all attributes\n",
    "\n"
   ]
  },
  {
   "cell_type": "code",
   "execution_count": 5,
   "metadata": {},
   "outputs": [],
   "source": [
    "bike_rental = pd.read_csv('https://raw.githubusercontent.com/huanfachen/Spatial_Data_Science/main/Dataset/daily_count_bike_rental.csv')\n",
    "# drop the year variable as it is not useful\n",
    "bike_rental = bike_rental.drop('yr', axis=1)"
   ]
  },
  {
   "cell_type": "code",
   "execution_count": 7,
   "metadata": {},
   "outputs": [
    {
     "data": {
      "text/plain": [
       "(731, 11)"
      ]
     },
     "execution_count": 7,
     "metadata": {},
     "output_type": "execute_result"
    }
   ],
   "source": [
    "bike_rental.shape"
   ]
  },
  {
   "cell_type": "code",
   "execution_count": 9,
   "metadata": {},
   "outputs": [
    {
     "data": {
      "text/plain": [
       "Index(['cnt', 'season', 'mnth', 'holiday', 'weekday', 'workingday',\n",
       "       'weathersit', 'temp', 'hum', 'windspeed', 'days_since_2011'],\n",
       "      dtype='object')"
      ]
     },
     "execution_count": 9,
     "metadata": {},
     "output_type": "execute_result"
    }
   ],
   "source": [
    "bike_rental.columns"
   ]
  },
  {
   "cell_type": "code",
   "execution_count": null,
   "metadata": {},
   "outputs": [],
   "source": []
  },
  {
   "cell_type": "code",
   "execution_count": null,
   "metadata": {},
   "outputs": [],
   "source": []
  },
  {
   "cell_type": "code",
   "execution_count": null,
   "metadata": {},
   "outputs": [],
   "source": []
  },
  {
   "cell_type": "code",
   "execution_count": null,
   "metadata": {},
   "outputs": [],
   "source": []
  },
  {
   "cell_type": "code",
   "execution_count": null,
   "metadata": {},
   "outputs": [],
   "source": []
  }
 ],
 "metadata": {
  "kernelspec": {
   "display_name": "Python 3",
   "language": "python",
   "name": "python3"
  },
  "language_info": {
   "codemirror_mode": {
    "name": "ipython",
    "version": 3
   },
   "file_extension": ".py",
   "mimetype": "text/x-python",
   "name": "python",
   "nbconvert_exporter": "python",
   "pygments_lexer": "ipython3",
   "version": "3.10.12"
  }
 },
 "nbformat": 4,
 "nbformat_minor": 2
}
